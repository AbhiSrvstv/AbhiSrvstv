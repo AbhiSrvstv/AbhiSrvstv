{
  "nbformat": 4,
  "nbformat_minor": 0,
  "metadata": {
    "colab": {
      "name": "Project_1.ipynb",
      "provenance": [],
      "authorship_tag": "ABX9TyNS883ZGwRed4i83v09WGE4",
      "include_colab_link": true
    },
    "kernelspec": {
      "name": "python3",
      "display_name": "Python 3"
    },
    "language_info": {
      "name": "python"
    }
  },
  "cells": [
    {
      "cell_type": "markdown",
      "metadata": {
        "id": "view-in-github",
        "colab_type": "text"
      },
      "source": [
        "<a href=\"https://colab.research.google.com/github/AbhiSrvstv/AbhiSrvstv/blob/main/Project_1.ipynb\" target=\"_parent\"><img src=\"https://colab.research.google.com/assets/colab-badge.svg\" alt=\"Open In Colab\"/></a>"
      ]
    },
    {
      "cell_type": "markdown",
      "source": [
        "#### Activity 1: Natural Numbers from 2011 - 2021\n",
        "\n",
        "Here you need to print all the natural numbers from 2011 - 2021 (including both 2011 and 2021) using a `while` loop. \n",
        "\n",
        "Follow the steps given below to achieve the desired result:\n",
        "\n",
        "- **Step 1**: Store the starting number i.e. `2011` in a variable `num`.\n",
        "\n",
        "- **Step 2**: Define the condition for `while` loop. This loop must be executed till the value stored in variable `num` is less than or equal to `2021`. So the condition for `while` loop will be `while(num)<=2021`.\n",
        "\n",
        "- **Step 3**: Inside the `while` loop, first print the value stored in `num` variable, then increment the value of `num` by `1` to print the next consecutive number."
      ],
      "metadata": {
        "id": "FLa4aOIE6hAe"
      }
    },
    {
      "cell_type": "code",
      "source": [
        "num =2011\n",
        "while num<=2021:\n",
        "  print(f'First number : {num}')\n",
        "  num +=1\n",
        "\n",
        "  print(f'Second number : {num}')"
      ],
      "metadata": {
        "colab": {
          "base_uri": "https://localhost:8080/"
        },
        "id": "Of5GrT2o7Nsd",
        "outputId": "2e08ace4-8cb8-49e2-9612-1379a101f12f"
      },
      "execution_count": 3,
      "outputs": [
        {
          "output_type": "stream",
          "name": "stdout",
          "text": [
            "First number : 2011\n",
            "Second number : 2012\n",
            "First number : 2012\n",
            "Second number : 2013\n",
            "First number : 2013\n",
            "Second number : 2014\n",
            "First number : 2014\n",
            "Second number : 2015\n",
            "First number : 2015\n",
            "Second number : 2016\n",
            "First number : 2016\n",
            "Second number : 2017\n",
            "First number : 2017\n",
            "Second number : 2018\n",
            "First number : 2018\n",
            "Second number : 2019\n",
            "First number : 2019\n",
            "Second number : 2020\n",
            "First number : 2020\n",
            "Second number : 2021\n",
            "First number : 2021\n",
            "Second number : 2022\n"
          ]
        }
      ]
    },
    {
      "cell_type": "markdown",
      "source": [
        "#### Activity 2: Football Points\n",
        "\n",
        "Get the number of `wins` of a football team as an input. Write a program to calculate the total number of win points the football team has obtained so far. \n",
        "\n",
        "Every single win gains `3` points to the team.\n",
        "\n",
        "<center><img src='https://i.imgur.com/baU8P6A.png' width =370/></center>\n",
        "\n",
        "\n",
        "\n",
        "\n",
        "```\n",
        "\n",
        "**Note**: The value of `win` should be greater than or equal to `0`.\n",
        "\n",
        "Follow the steps given below to achieve the desired result:\n",
        "\n",
        "- **Step 1**: Ask the user to enter the number of matches won by the football team using `input()` function and convert it into integer using `int()` function. Store the user input in a variable `wins` as follows:\n",
        "\n",
        "   `wins=int(input(\" Enter the number of matches won by the football team:\"))` \n",
        "   \n",
        "   \n",
        "- **Step 2**: Calculate the points gained on winning the matches by multiplying the number of wins (stored in `wins` variable) by `3` using the `*` operator (as each win gives 3 points to the team). Store the result in a variable (lets say `win_points`)\n",
        "\n",
        "- **Step 3**: Print the value stored in the variable `win_points`."
      ],
      "metadata": {
        "id": "1OvCBw696sjN"
      }
    },
    {
      "cell_type": "markdown",
      "source": [
        ""
      ],
      "metadata": {
        "id": "xWEV9-Zw6t9S"
      }
    },
    {
      "cell_type": "code",
      "source": [
        "won = int(input('Enter the number of matches won by the football team:'))\n",
        "win_points = 3*won\n",
        "print(f'Points earned : {win_points}')"
      ],
      "metadata": {
        "colab": {
          "base_uri": "https://localhost:8080/"
        },
        "id": "Y4qKscaR7m1R",
        "outputId": "bcdd5b68-0ef9-4f84-ed70-884b629f0ed8"
      },
      "execution_count": 2,
      "outputs": [
        {
          "output_type": "stream",
          "name": "stdout",
          "text": [
            "Enter the number of matches won by the football team:5\n",
            "Points earned : 15\n"
          ]
        }
      ]
    }
  ]
}